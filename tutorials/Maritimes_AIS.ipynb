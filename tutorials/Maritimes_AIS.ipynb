{
 "cells": [
  {
   "cell_type": "markdown",
   "metadata": {},
   "source": [
    "# Example: Maritimes_AIS\n",
    "---------------------------------------"
   ]
  },
  {
   "cell_type": "markdown",
   "metadata": {},
   "source": [
    "IMPORTANT: \n",
    "\n",
    "* Make sure your `Tutorials` conda environemnt is activated\n",
    "* Make sure you changed `settings.py` to reflect your directories (see Tutorial: `Download ship_mapper examples`)"
   ]
  },
  {
   "cell_type": "markdown",
   "metadata": {},
   "source": [
    "First we have to make the \"Maritimes\" basemap and grid...\n",
    "\n",
    "In Spyder, run `grids/Maritimes/make_basemap.py`"
   ]
  },
  {
   "cell_type": "markdown",
   "metadata": {},
   "source": [
    "This should create a new directory (`ancillary`) and 3 new files:\n",
    "\n",
    "* `basemap_sidebar.basemap` ...a serialized file containing the basemap\n",
    "* `basemap_sidebar.grid` ...a serialized file containing grad information and metadata\n",
    "* `usgsCeSrtm30v6.nc` ...a NetCDF file containing the bathemetry for the domain\n",
    "\n",
    "Also the following map should be created...\n",
    "\n",
    "<img src=\"media/Maritimes_basemap.png\" alt=\"title\" >"
   ]
  },
  {
   "cell_type": "code",
   "execution_count": null,
   "metadata": {},
   "outputs": [],
   "source": []
  }
 ],
 "metadata": {
  "kernelspec": {
   "display_name": "Python 3",
   "language": "python",
   "name": "python3"
  },
  "language_info": {
   "codemirror_mode": {
    "name": "ipython",
    "version": 3
   },
   "file_extension": ".py",
   "mimetype": "text/x-python",
   "name": "python",
   "nbconvert_exporter": "python",
   "pygments_lexer": "ipython3",
   "version": "3.6.5"
  }
 },
 "nbformat": 4,
 "nbformat_minor": 2
}

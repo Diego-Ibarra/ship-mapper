{
 "cells": [
  {
   "cell_type": "markdown",
   "metadata": {},
   "source": [
    "# Example: Maritimes_AIS\n",
    "---------------------------------------"
   ]
  },
  {
   "cell_type": "markdown",
   "metadata": {},
   "source": [
    "IMPORTANT: \n",
    "\n",
    "* Make sure your `Tutorials` conda environemnt is activated\n",
    "* Make sure you changed `settings.py` to reflect your directories (see Tutorial: `Download ship_mapper examples`)"
   ]
  },
  {
   "cell_type": "markdown",
   "metadata": {},
   "source": [
    "------------\n",
    "### Make basemap\n",
    "\n",
    "First we have to make the \"Maritimes\" basemap and grid...\n",
    "\n",
    "In Spyder, run `grids/Maritimes/make_basemap.py`"
   ]
  },
  {
   "cell_type": "markdown",
   "metadata": {},
   "source": [
    "This should create a new directory (`ancillary`) and 3 new files:\n",
    "\n",
    "* `basemap_sidebar.basemap` ...a serialized file containing the basemap\n",
    "* `basemap_sidebar.grid` ...a serialized file containing grad information and metadata\n",
    "* `usgsCeSrtm30v6.nc` ...a NetCDF file containing the bathemetry for the domain\n",
    "\n",
    "Also the following map should be created...\n",
    "\n",
    "<img src=\"media/Maritimes_basemap.png\" alt=\"title\" >"
   ]
  },
  {
   "cell_type": "markdown",
   "metadata": {},
   "source": [
    "------------\n",
    "### Make `info` file\n",
    "\n",
    "Then, in Spyder, run `projects\\example1_Maritimes_AIS\\make_info.py`\n",
    "\n",
    "This should have made a new directory `ancillary`, and within it, a new `info` file called `info_1_run.py`. This file contains all the metadata and input parameters to manipulate the data."
   ]
  },
  {
   "cell_type": "markdown",
   "metadata": {},
   "source": [
    "------------------------\n",
    "### Run the analysis\n",
    "\n",
    "In Spyder, run `projects\\example1_Maritimes_AIS\\1_run.py`\n",
    "\n",
    "This runs the analysis, and makes the following new directories:\n",
    "\n",
    "* `projects\\example1_Maritimes_AIS\\gridded_data`\n",
    "* `projects\\example1_Maritimes_AIS\\merged_grid`\n",
    "* `projects\\example1_Maritimes_AIS\\pngs`\n",
    "\n",
    "Within this new directories there are the following new files:\n",
    "\n",
    "* `projects\\example1_Maritimes_AIS\\gridded_data\\CCG_AIS_Dynamic_Data_2017-07-26`\n",
    "* `projects\\example1_Maritimes_AIS\\gridded_data\\CCG_AIS_Dynamic_Data_2017-07-27`\n",
    "* `projects\\example1_Maritimes_AIS\\merged_grid\\merged_grid.nc`\n",
    "* `projects\\example1_Maritimes_AIS\\pngs\\1_run_merged_grid.png`\n",
    "\n",
    "The last file is the map below:"
   ]
  },
  {
   "cell_type": "markdown",
   "metadata": {},
   "source": [
    "<img src=\"media/Maritimes_AIS.png\" alt=\"title\" >"
   ]
  }
 ],
 "metadata": {
  "kernelspec": {
   "display_name": "Python 3",
   "language": "python",
   "name": "python3"
  },
  "language_info": {
   "codemirror_mode": {
    "name": "ipython",
    "version": 3
   },
   "file_extension": ".py",
   "mimetype": "text/x-python",
   "name": "python",
   "nbconvert_exporter": "python",
   "pygments_lexer": "ipython3",
   "version": "3.6.5"
  }
 },
 "nbformat": 4,
 "nbformat_minor": 2
}

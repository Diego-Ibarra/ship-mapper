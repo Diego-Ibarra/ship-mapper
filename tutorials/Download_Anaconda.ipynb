{
 "cells": [
  {
   "cell_type": "markdown",
   "metadata": {},
   "source": [
    "# Installing Anaconda\n",
    "------------------------------------------\n",
    "\n",
    "In one step, `Anaconda` installs in your computer Python and many of the libraries you'll need.\n",
    "\n",
    "Simply...\n",
    "\n",
    "#. Go to: https://www.anaconda.com/download/\n",
    "#. Download anaconda 3.*\n",
    "#. Install the executable file and follow instructions"
   ]
  }
 ],
 "metadata": {
  "kernelspec": {
   "display_name": "Python 3",
   "language": "python",
   "name": "python3"
  },
  "language_info": {
   "codemirror_mode": {
    "name": "ipython",
    "version": 3
   },
   "file_extension": ".py",
   "mimetype": "text/x-python",
   "name": "python",
   "nbconvert_exporter": "python",
   "pygments_lexer": "ipython3",
   "version": "3.6.5"
  }
 },
 "nbformat": 4,
 "nbformat_minor": 2
}

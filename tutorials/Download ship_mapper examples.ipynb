{
 "cells": [
  {
   "cell_type": "markdown",
   "metadata": {},
   "source": [
    "# Download ship_mapper examples\n",
    "-----------------------------------------------------"
   ]
  },
  {
   "cell_type": "markdown",
   "metadata": {},
   "source": [
    "Make a new folder in your computer and copy-paste the cpntents of https://github.com/Diego-Ibarra/ship_mapper/tree/master/examples\n",
    "\n",
    "One simple way to do this is to dowload the contents via the following link:\n",
    "https://minhaskamal.github.io/DownGit/#/home?url=https://github.com/Diego-Ibarra/ship_mapper/tree/master/examples"
   ]
  },
  {
   "cell_type": "markdown",
   "metadata": {},
   "source": [
    "------------------\n",
    "\n",
    "In my case I now have a directory that looks like this...\n",
    "\n",
    "    C:\\Users\\IbarraD\\Desktop\\Ship_mapper_tutorials\n",
    "    C:\\Users\\IbarraD\\Desktop\\Ship_mapper_tutorials\\data\n",
    "    C:\\Users\\IbarraD\\Desktop\\Ship_mapper_tutorials\\grids\n",
    "    C:\\Users\\IbarraD\\Desktop\\Ship_mapper_tutorials\\projects\n"
   ]
  },
  {
   "cell_type": "markdown",
   "metadata": {},
   "source": [
    "Go to the `projects` directory and open the file `settings.py`. Modify its contents to reflect the location of the `data` and the `grids` directories. In my case it looks like this:\n",
    "\n",
    "```\n",
    "from pathlib import Path\n",
    "\n",
    "GRIDS = Path(r'C:\\Users\\IbarraD\\Desktop\\Ship_mapper_tutorials\\projects\\grids')\n",
    "\n",
    "DATA = Path(r'C:\\Users\\IbarraD\\Desktop\\Ship_mapper_tutorials\\projects\\data')\n",
    "\n",
    "```"
   ]
  },
  {
   "cell_type": "markdown",
   "metadata": {},
   "source": [
    "-------------\n",
    "\n",
    "Continue on to the next tutorial"
   ]
  }
 ],
 "metadata": {
  "kernelspec": {
   "display_name": "Python 3",
   "language": "python",
   "name": "python3"
  },
  "language_info": {
   "codemirror_mode": {
    "name": "ipython",
    "version": 3
   },
   "file_extension": ".py",
   "mimetype": "text/x-python",
   "name": "python",
   "nbconvert_exporter": "python",
   "pygments_lexer": "ipython3",
   "version": "3.6.5"
  }
 },
 "nbformat": 4,
 "nbformat_minor": 2
}
